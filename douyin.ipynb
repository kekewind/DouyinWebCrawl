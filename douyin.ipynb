{
 "cells": [
  {
   "cell_type": "code",
   "execution_count": null,
   "source": [
    "import time\r\n",
    "from selenium.webdriver import Chrome\r\n",
    "from selenium.webdriver.chrome.webdriver import WebDriver\r\n",
    "from selenium.webdriver.support.wait import WebDriverWait\r\n",
    "from selenium.webdriver.support import expected_conditions as EC\r\n",
    "from selenium.webdriver.common.by import By"
   ],
   "outputs": [],
   "metadata": {}
  },
  {
   "cell_type": "code",
   "execution_count": null,
   "source": [
    "chromedriver_path = 'C:\\Program Files (x86)\\Google\\Chrome\\Application\\chromedriver.exe'\r\n",
    "driver = Chrome(executable_path=chromedriver_path)\r\n",
    "driver.implicitly_wait(10)\r\n",
    "wait = WebDriverWait(driver,10)\r\n",
    "driver.get(\"https://www.douyin.com/\")\r\n",
    "driver.maximize_window()"
   ],
   "outputs": [],
   "metadata": {}
  },
  {
   "cell_type": "code",
   "execution_count": null,
   "source": [
    "driver.switch_to.window(driver.window_handles[-1])"
   ],
   "outputs": [],
   "metadata": {}
  },
  {
   "cell_type": "code",
   "execution_count": null,
   "source": [
    "name_list = []\r\n",
    "tag_list = []\r\n",
    "#douyin_account_list = []\r\n",
    "vote_list = []\r\n",
    "followers_list = []\r\n",
    "describ_list = []\r\n",
    "yujia_info_list = []\r\n",
    "for i in range(1,495):\r\n",
    "    name_xpath = '//*[@id=\"root\"]/div/div[2]/div/div[2]/div[3]/ul/li[{}]/a/div[1]/div[2]/p/span/span/span/span/span'.format(str(i))\r\n",
    "    #tag_xpath = '//*[@id=\"root\"]/div/div[2]/div/div[2]/div[3]/ul/li[{}]/a/div[1]/div[2]/div/p'.format(str(i))\r\n",
    "    douyin_account_xpath = '//*[@id=\"root\"]/div/div[2]/div/div[2]/div[3]/ul/li[{}]/a/div[2]/span[1]/span'.format(str(i))\r\n",
    "    vote_xpath = '//*[@id=\"root\"]/div/div[2]/div/div[2]/div[3]/ul/li[{}]/a/div[2]/span[3]'.format(str(i))\r\n",
    "    followers_xpath = '//*[@id=\"root\"]/div/div[2]/div/div[2]/div[3]/ul/li[{}]/a/div[2]/span[5]'.format(str(i))\r\n",
    "    describ_xpath = '//*[@id=\"root\"]/div/div[2]/div/div[2]/div[3]/ul/li[{}]/a/p/span/span/span/span/span'.format(str(i))\r\n",
    "    name = driver.find_element_by_xpath(name_xpath).text\r\n",
    "    # try:\r\n",
    "    #     tag  = driver.find_element_by_xpath(tag_xpath).text\r\n",
    "    # except:\r\n",
    "    #     tag = ' '\r\n",
    "    douyin_account = driver.find_element_by_xpath(douyin_account_xpath).text\r\n",
    "    vote = driver.find_element_by_xpath(vote_xpath).text\r\n",
    "    followers = driver.find_element_by_xpath(followers_xpath).text\r\n",
    "    describ = driver.find_element_by_xpath(describ_xpath).text\r\n",
    "    info = (name,douyin_account,vote,followers,describ)\r\n",
    "    print(info)\r\n",
    "    yujia_info_list.append(info)"
   ],
   "outputs": [],
   "metadata": {}
  },
  {
   "cell_type": "code",
   "execution_count": null,
   "source": [
    "import pandas as pd\r\n",
    "df_yujia = pd.DataFrame(yujia_info_list)\r\n",
    "df_yujia.columns = ['名称','抖音号','获赞','粉丝','简介']\r\n",
    "df_yujia.to_csv('./yujia.csv',encoding='utf_8_sig')"
   ],
   "outputs": [],
   "metadata": {}
  },
  {
   "cell_type": "code",
   "execution_count": null,
   "source": [
    "raw_info_list = []\r\n",
    "vote_list = []\r\n",
    "account_list = []\r\n",
    "for i in range(1,495):\r\n",
    "    raw_info = driver.find_element_by_xpath('//*[@id=\"root\"]/div/div[2]/div/div[2]/div[3]/ul/li[{}]/a'.format(i)).text\r\n",
    "    douyin_account_xpath = '//*[@id=\"root\"]/div/div[2]/div/div[2]/div[3]/ul/li[{}]/a/div[2]/span[1]/span'.format(str(i))\r\n",
    "    vote_xpath = '//*[@id=\"root\"]/div/div[2]/div/div[2]/div[3]/ul/li[{}]/a/div[2]/span[3]'.format(str(i))\r\n",
    "    douyin_account = driver.find_element_by_xpath(douyin_account_xpath).text\r\n",
    "    vote = driver.find_element_by_xpath(vote_xpath).text\r\n",
    "    raw_info_list.append(raw_info)\r\n",
    "    print(vote)\r\n",
    "    print(douyin_account)\r\n",
    "    print(raw_info)\r\n",
    "    "
   ],
   "outputs": [],
   "metadata": {}
  }
 ],
 "metadata": {
  "orig_nbformat": 4,
  "language_info": {
   "name": "python",
   "version": "3.7.10",
   "mimetype": "text/x-python",
   "codemirror_mode": {
    "name": "ipython",
    "version": 3
   },
   "pygments_lexer": "ipython3",
   "nbconvert_exporter": "python",
   "file_extension": ".py"
  },
  "kernelspec": {
   "name": "python3",
   "display_name": "Python 3.7.10 64-bit ('study': conda)"
  },
  "interpreter": {
   "hash": "73acc1dd3d21720eed84c7a59e691bb990890df450f8f6cf7f2018a21af4b0ad"
  }
 },
 "nbformat": 4,
 "nbformat_minor": 2
}